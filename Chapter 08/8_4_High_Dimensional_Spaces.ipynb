{
 "cells": [
  {
   "cell_type": "code",
   "execution_count": 1,
   "id": "b9e107c5-3b92-4bc3-931a-62168009a07a",
   "metadata": {},
   "outputs": [],
   "source": [
    "import numpy as np\n",
    "import matplotlib.pyplot as plt\n",
    "import scipy.special as sci\n",
    "from scipy.spatial.distance import pdist\n",
    "from scipy.special import gamma"
   ]
  },
  {
   "cell_type": "code",
   "execution_count": 2,
   "id": "90ecbc2a-956c-4415-b44b-4589ded4dd3f",
   "metadata": {},
   "outputs": [],
   "source": [
    "# Fix the random seed so we all have the same random numbers\n",
    "np.random.seed(0)\n",
    "n_data = 1000\n",
    "# Create 1000 data examples (columns) each with 2 dimensions (rows)\n",
    "n_dim = 2\n",
    "x_2D = np.random.normal(size=(n_dim,n_data))\n",
    "# Create 1000 data examples (columns) each with 100 dimensions (rows)\n",
    "n_dim = 100\n",
    "x_100D = np.random.normal(size=(n_dim,n_data))\n",
    "# Create 1000 data examples (columns) each with 1000 dimensions (rows)\n",
    "n_dim = 1000\n",
    "x_1000D = np.random.normal(size=(n_dim,n_data))"
   ]
  },
  {
   "cell_type": "code",
   "execution_count": 3,
   "id": "64be9a10-ea83-4db5-9f56-839e7a12925a",
   "metadata": {},
   "outputs": [],
   "source": [
    "def distance_ratio(x):\n",
    "  # TODO -- replace the two lines below to calculate the largest and smallest Euclidean distance between\n",
    "  # the data points in the columns of x.  DO NOT include the distance between the data point\n",
    "  # and itself (which is obviously zero)\n",
    "  distances = pdist(x.T, metric='euclidean')\n",
    "  smallest_dist = np.min(distances)\n",
    "  largest_dist = np.max(distances)\n",
    "\n",
    "  # Calculate the ratio and return\n",
    "  dist_ratio = largest_dist / smallest_dist\n",
    "  return dist_ratio"
   ]
  },
  {
   "cell_type": "code",
   "execution_count": 4,
   "id": "7d5d56c8-9176-485c-b214-1554272e0e1c",
   "metadata": {},
   "outputs": [
    {
     "name": "stdout",
     "output_type": "stream",
     "text": [
      "Ratio of largest to smallest distance 2D: 2840.258\n",
      "Ratio of largest to smallest distance 100D: 2.038\n",
      "Ratio of largest to smallest distance 1000D: 1.221\n"
     ]
    }
   ],
   "source": [
    "print('Ratio of largest to smallest distance 2D: %3.3f'%(distance_ratio(x_2D)))\n",
    "print('Ratio of largest to smallest distance 100D: %3.3f'%(distance_ratio(x_100D)))\n",
    "print('Ratio of largest to smallest distance 1000D: %3.3f'%(distance_ratio(x_1000D)))\n"
   ]
  },
  {
   "cell_type": "code",
   "execution_count": 5,
   "id": "322c2c13-0360-404f-937a-ad6e3d8f4d5b",
   "metadata": {},
   "outputs": [],
   "source": [
    "def volume_of_hypersphere(diameter, dimensions):\n",
    "  # Formula given in Problem 8.7 of the book\n",
    "  # You will need sci.gamma()\n",
    "  # Check out:    https://docs.scipy.org/doc/scipy/reference/generated/scipy.special.gamma.html\n",
    "  # Also use this value for pi\n",
    "  pi = np.pi\n",
    "  # TODO replace this code with formula for the volume of a hypersphere\n",
    "  r = diameter / 2\n",
    "  volume = (pi ** (dimensions / 2)) * (r ** dimensions) / gamma(dimensions / 2 + 1)\n",
    "\n",
    "  return volume\n"
   ]
  },
  {
   "cell_type": "code",
   "execution_count": 6,
   "id": "4dc52916-731b-453d-a445-0e02f3880cd9",
   "metadata": {},
   "outputs": [
    {
     "name": "stdout",
     "output_type": "stream",
     "text": [
      "Volume of unit diameter hypersphere in 1 dimensions is 1.000\n",
      "Volume of unit diameter hypersphere in 2 dimensions is 0.785\n",
      "Volume of unit diameter hypersphere in 3 dimensions is 0.524\n",
      "Volume of unit diameter hypersphere in 4 dimensions is 0.308\n",
      "Volume of unit diameter hypersphere in 5 dimensions is 0.164\n",
      "Volume of unit diameter hypersphere in 6 dimensions is 0.081\n",
      "Volume of unit diameter hypersphere in 7 dimensions is 0.037\n",
      "Volume of unit diameter hypersphere in 8 dimensions is 0.016\n",
      "Volume of unit diameter hypersphere in 9 dimensions is 0.006\n",
      "Volume of unit diameter hypersphere in 10 dimensions is 0.002\n"
     ]
    }
   ],
   "source": [
    "diameter = 1.0\n",
    "for c_dim in range(1,11):\n",
    "  print(\"Volume of unit diameter hypersphere in %d dimensions is %3.3f\"%(c_dim, volume_of_hypersphere(diameter, c_dim)))"
   ]
  },
  {
   "cell_type": "code",
   "execution_count": 7,
   "id": "6e8f218e-975b-4485-9e10-03cdf874c820",
   "metadata": {},
   "outputs": [],
   "source": [
    "def get_prop_of_volume_in_outer_1_percent(dimension):\n",
    "  # TODO -- replace this line\n",
    "  full_volume = volume_of_hypersphere(1.0, dimension)\n",
    "  inner_volume = volume_of_hypersphere(0.99, dimension)\n",
    "  proportion = (full_volume - inner_volume) / full_volume\n",
    "\n",
    "  return proportion"
   ]
  },
  {
   "cell_type": "code",
   "execution_count": 8,
   "id": "2cc34340-007b-43fe-be96-8670acbff9c9",
   "metadata": {},
   "outputs": [
    {
     "name": "stdout",
     "output_type": "stream",
     "text": [
      "Proportion of volume in outer 1 percent of radius in 1 dimensions =0.010\n",
      "Proportion of volume in outer 1 percent of radius in 2 dimensions =0.020\n",
      "Proportion of volume in outer 1 percent of radius in 10 dimensions =0.096\n",
      "Proportion of volume in outer 1 percent of radius in 20 dimensions =0.182\n",
      "Proportion of volume in outer 1 percent of radius in 50 dimensions =0.395\n",
      "Proportion of volume in outer 1 percent of radius in 100 dimensions =0.634\n",
      "Proportion of volume in outer 1 percent of radius in 150 dimensions =0.779\n",
      "Proportion of volume in outer 1 percent of radius in 200 dimensions =0.866\n",
      "Proportion of volume in outer 1 percent of radius in 250 dimensions =0.919\n",
      "Proportion of volume in outer 1 percent of radius in 300 dimensions =0.951\n"
     ]
    }
   ],
   "source": [
    "# While we're here, let's look at how much of the volume is in the outer 1% of the radius\n",
    "for c_dim in [1,2,10,20,50,100,150,200,250,300]:\n",
    "  print('Proportion of volume in outer 1 percent of radius in %d dimensions =%3.3f'%(c_dim, get_prop_of_volume_in_outer_1_percent(c_dim)))"
   ]
  }
 ],
 "metadata": {
  "kernelspec": {
   "display_name": "Python 3 (ipykernel)",
   "language": "python",
   "name": "python3"
  },
  "language_info": {
   "codemirror_mode": {
    "name": "ipython",
    "version": 3
   },
   "file_extension": ".py",
   "mimetype": "text/x-python",
   "name": "python",
   "nbconvert_exporter": "python",
   "pygments_lexer": "ipython3",
   "version": "3.13.0"
  }
 },
 "nbformat": 4,
 "nbformat_minor": 5
}
