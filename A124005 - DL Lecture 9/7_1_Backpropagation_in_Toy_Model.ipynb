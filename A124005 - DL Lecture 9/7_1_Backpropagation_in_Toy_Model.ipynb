{
 "cells": [
  {
   "cell_type": "code",
   "execution_count": 1,
   "id": "b13d3373-d53c-41cd-b6a3-80997e466a07",
   "metadata": {},
   "outputs": [],
   "source": [
    "# import library\n",
    "import numpy as np"
   ]
  },
  {
   "cell_type": "code",
   "execution_count": 2,
   "id": "ff841f1f-54b4-4ad4-8e01-e8b8002863d0",
   "metadata": {},
   "outputs": [],
   "source": [
    "def fn(x, beta0, beta1, beta2, beta3, omega0, omega1, omega2, omega3):\n",
    "  return beta3+omega3 * np.cos(beta2 + omega2 * np.exp(beta1 + omega1 * np.sin(beta0 + omega0 * x)))\n",
    "\n",
    "def loss(x, y, beta0, beta1, beta2, beta3, omega0, omega1, omega2, omega3):\n",
    "  diff = fn(x, beta0, beta1, beta2, beta3, omega0, omega1, omega2, omega3) - y\n",
    "  return diff * diff"
   ]
  },
  {
   "cell_type": "code",
   "execution_count": 3,
   "id": "1fc355d2-f590-42b1-ab28-ce463bfbe49d",
   "metadata": {},
   "outputs": [
    {
     "name": "stdout",
     "output_type": "stream",
     "text": [
      "l_i=0.139\n"
     ]
    }
   ],
   "source": [
    "beta0 = 1.0; beta1 = 2.0; beta2 = -3.0; beta3 = 0.4\n",
    "omega0 = 0.1; omega1 = -0.4; omega2 = 2.0; omega3 = 3.0\n",
    "x = 2.3; y = 2.0\n",
    "l_i_func = loss(x,y,beta0,beta1,beta2,beta3,omega0,omega1,omega2,omega3)\n",
    "print('l_i=%3.3f'%l_i_func)"
   ]
  },
  {
   "cell_type": "code",
   "execution_count": 4,
   "id": "3d64d992-ff8e-4dbe-91b4-38fc19f05221",
   "metadata": {},
   "outputs": [],
   "source": [
    "dldbeta3_func = 2 * (beta3 +omega3 * np.cos(beta2 + omega2 * np.exp(beta1+omega1 * np.sin(beta0+omega0 * x)))-y)\n",
    "dldomega0_func = -2 *(beta3 +omega3 * np.cos(beta2 + omega2 * np.exp(beta1+omega1 * np.sin(beta0+omega0 * x)))-y) * \\\n",
    "              omega1 * omega2 * omega3 * x * np.cos(beta0 + omega0 * x) * np.exp(beta1 +omega1 * np.sin(beta0 + omega0 * x)) *\\\n",
    "              np.sin(beta2 + omega2 * np.exp(beta1+ omega1* np.sin(beta0+omega0 * x)))"
   ]
  },
  {
   "cell_type": "code",
   "execution_count": 5,
   "id": "3324ebdc-b125-4133-a63a-b06b7c0aa3e2",
   "metadata": {},
   "outputs": [
    {
     "name": "stdout",
     "output_type": "stream",
     "text": [
      "dydomega0: Function value = 5.246, Finite difference value = 5.246\n"
     ]
    }
   ],
   "source": [
    "dldomega0_fd = (loss(x,y,beta0,beta1,beta2,beta3,omega0+0.00001,omega1,omega2,omega3)-loss(x,y,beta0,beta1,beta2,beta3,omega0,omega1,omega2,omega3))/0.00001\n",
    "\n",
    "print('dydomega0: Function value = %3.3f, Finite difference value = %3.3f'%(dldomega0_func,dldomega0_fd))"
   ]
  },
  {
   "cell_type": "code",
   "execution_count": 6,
   "id": "5b1963d7-bd7a-464e-8783-fd0cc6b7a83c",
   "metadata": {},
   "outputs": [],
   "source": [
    "# TODO compute all the f_k and h_k terms\n",
    "\n",
    "f0 = beta0 + omega0 * x\n",
    "h1 = np.sin(f0)\n",
    "\n",
    "f1 = beta1 + omega1 * h1\n",
    "h2 = np.exp(f1)\n",
    "\n",
    "f2 = beta2 + omega2 * h2\n",
    "h3 = np.cos(f2)\n",
    "\n",
    "f3 = beta3 + omega3 * h3\n",
    "\n",
    "l_i = (f3 - y) ** 2\n"
   ]
  },
  {
   "cell_type": "code",
   "execution_count": 7,
   "id": "e58bfba9-2a35-4080-a5ae-26e87f9da7af",
   "metadata": {},
   "outputs": [
    {
     "name": "stdout",
     "output_type": "stream",
     "text": [
      "f0: true value = 1.230, your value = 1.230\n",
      "h1: true value = 0.942, your value = 0.942\n",
      "f1: true value = 1.623, your value = 1.623\n",
      "h2: true value = 5.068, your value = 5.068\n",
      "f2: true value = 7.137, your value = 7.137\n",
      "h3: true value = 0.657, your value = 0.657\n",
      "f3: true value = 2.372, your value = 2.372\n",
      "l_i original = 0.139, l_i from forward pass = 0.139\n"
     ]
    }
   ],
   "source": [
    "# Let's check we got that right:\n",
    "print(\"f0: true value = %3.3f, your value = %3.3f\"%(1.230, f0))\n",
    "print(\"h1: true value = %3.3f, your value = %3.3f\"%(0.942, h1))\n",
    "print(\"f1: true value = %3.3f, your value = %3.3f\"%(1.623, f1))\n",
    "print(\"h2: true value = %3.3f, your value = %3.3f\"%(5.068, h2))\n",
    "print(\"f2: true value = %3.3f, your value = %3.3f\"%(7.137, f2))\n",
    "print(\"h3: true value = %3.3f, your value = %3.3f\"%(0.657, h3))\n",
    "print(\"f3: true value = %3.3f, your value = %3.3f\"%(2.372, f3))\n",
    "print(\"l_i original = %3.3f, l_i from forward pass = %3.3f\"%(l_i_func, l_i))\n"
   ]
  },
  {
   "cell_type": "code",
   "execution_count": 8,
   "id": "e6269cd3-9545-42ae-97e1-44076228a51a",
   "metadata": {},
   "outputs": [],
   "source": [
    "# TODO -- Compute the derivatives of the output with respect\n",
    "# to the intermediate computations h_k and f_k (i.e, run the backward pass)\n",
    "# I've done the first two for you.  You replace the code below:\n",
    "dldf3 = 2* (f3 - y)\n",
    "dldh3 = omega3 * dldf3\n",
    "dldf2 = -np.sin(f2) * dldh3                \n",
    "dldh2 = omega2 * dldf2                     \n",
    "dldf1 = np.exp(f1) * dldh2                 \n",
    "dldh1 = omega1 * dldf1                     \n",
    "dldf0 = np.cos(f0) * dldh1        \n",
    "\n"
   ]
  },
  {
   "cell_type": "code",
   "execution_count": 9,
   "id": "33452f1a-46ca-4fae-83d2-1908f0013db3",
   "metadata": {},
   "outputs": [
    {
     "name": "stdout",
     "output_type": "stream",
     "text": [
      "dldf3: true value = 0.745, your value = 0.745\n",
      "dldh3: true value = 2.234, your value = 2.234\n",
      "dldf2: true value = -1.683, your value = -1.683\n",
      "dldh2: true value = -3.366, your value = -3.366\n",
      "dldf1: true value = -17.060, your value = -17.060\n",
      "dldh1: true value = 6.824, your value = 6.824\n",
      "dldf0: true value = 2.281, your value = 2.281\n"
     ]
    }
   ],
   "source": [
    "# Let's check we got that right\n",
    "print(\"dldf3: true value = %3.3f, your value = %3.3f\"%(0.745, dldf3))\n",
    "print(\"dldh3: true value = %3.3f, your value = %3.3f\"%(2.234, dldh3))\n",
    "print(\"dldf2: true value = %3.3f, your value = %3.3f\"%(-1.683, dldf2))\n",
    "print(\"dldh2: true value = %3.3f, your value = %3.3f\"%(-3.366, dldh2))\n",
    "print(\"dldf1: true value = %3.3f, your value = %3.3f\"%(-17.060, dldf1))\n",
    "print(\"dldh1: true value = %3.3f, your value = %3.3f\"%(6.824, dldh1))\n",
    "print(\"dldf0: true value = %3.3f, your value = %3.3f\"%(2.281, dldf0))"
   ]
  },
  {
   "cell_type": "code",
   "execution_count": 10,
   "id": "e4fae4d2-ccc5-4c73-8fc3-9aef309def0a",
   "metadata": {},
   "outputs": [],
   "source": [
    "# TODO -- Calculate the final derivatives with respect to the beta and omega terms\n",
    "\n",
    "dldbeta3 = dldf3                          \n",
    "dldomega3 = h3 * dldf3                   \n",
    "\n",
    "dldbeta2 = dldf2                          \n",
    "dldomega2 = h2 * dldf2                    \n",
    "\n",
    "dldbeta1 = dldf1                          \n",
    "dldomega1 = h1 * dldf1                    \n",
    "\n",
    "dldbeta0 = dldf0                          \n",
    "dldomega0 = x * dldf0                     \n",
    "\n"
   ]
  },
  {
   "cell_type": "code",
   "execution_count": 11,
   "id": "62751615-3d70-4c11-bbec-1b0b0d55df13",
   "metadata": {},
   "outputs": [
    {
     "name": "stdout",
     "output_type": "stream",
     "text": [
      "dldbeta3: Your value = 0.745, True value = 0.745\n",
      "dldomega3: Your value = 0.489, True value = 0.489\n",
      "dldbeta2: Your value = -1.683, True value = -1.683\n",
      "dldomega2: Your value = -8.530, True value = -8.530\n",
      "dldbeta1: Your value = -17.060, True value = -17.060\n",
      "dldomega1: Your value = -16.079, True value = -16.079\n",
      "dldbeta0: Your value = 2.281, True value = 2.281\n",
      "dldomega0: Your value = 5.246, Function value = 5.246, Finite difference value = 5.246\n"
     ]
    }
   ],
   "source": [
    "# Let's check we got them right\n",
    "print('dldbeta3: Your value = %3.3f, True value = %3.3f'%(dldbeta3, 0.745))\n",
    "print('dldomega3: Your value = %3.3f, True value = %3.3f'%(dldomega3, 0.489))\n",
    "print('dldbeta2: Your value = %3.3f, True value = %3.3f'%(dldbeta2, -1.683))\n",
    "print('dldomega2: Your value = %3.3f, True value = %3.3f'%(dldomega2, -8.530))\n",
    "print('dldbeta1: Your value = %3.3f, True value = %3.3f'%(dldbeta1, -17.060))\n",
    "print('dldomega1: Your value = %3.3f, True value = %3.3f'%(dldomega1, -16.079))\n",
    "print('dldbeta0: Your value = %3.3f, True value = %3.3f'%(dldbeta0, 2.281))\n",
    "print('dldomega0: Your value = %3.3f, Function value = %3.3f, Finite difference value = %3.3f'%(dldomega0, dldomega0_func, dldomega0_fd))"
   ]
  }
 ],
 "metadata": {
  "kernelspec": {
   "display_name": "Python 3 (ipykernel)",
   "language": "python",
   "name": "python3"
  },
  "language_info": {
   "codemirror_mode": {
    "name": "ipython",
    "version": 3
   },
   "file_extension": ".py",
   "mimetype": "text/x-python",
   "name": "python",
   "nbconvert_exporter": "python",
   "pygments_lexer": "ipython3",
   "version": "3.13.0"
  }
 },
 "nbformat": 4,
 "nbformat_minor": 5
}
